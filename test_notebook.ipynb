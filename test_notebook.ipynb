{
 "cells": [
  {
   "cell_type": "code",
   "execution_count": 1,
   "id": "f2b3081c",
   "metadata": {},
   "outputs": [],
   "source": [
    "import numpy as np\n",
    "from tasks import step\n",
    "\n",
    "# Test cases for Task 1: step function\n",
    "def test_step_positive():\n",
    "    assert step(5) == 1, \"Failed on positive input\"\n",
    "\n",
    "def test_step_negative():\n",
    "    assert step(-3) == -1, \"Failed on negative input\"\n",
    "\n",
    "def test_step_zero():\n",
    "    assert step(0) == -1, \"Failed on zero input\"\n",
    "\n",
    "test_step_positive()\n",
    "test_step_negative()\n",
    "test_step_zero()"
   ]
  },
  {
   "cell_type": "code",
   "execution_count": 2,
   "id": "f256cbb2",
   "metadata": {},
   "outputs": [],
   "source": [
    "import numpy as np\n",
    "from tasks import step, ReLu\n",
    "\n",
    "\n",
    "def test_relu_default_cutoff():\n",
    "    array = np.array([-5, 0, 3, -2, 4])\n",
    "    expected_output = np.array([0, 0, 3, 0, 4])\n",
    "    np.testing.assert_array_equal(ReLu(array.copy()), expected_output, \"Failed on default cutoff\")\n",
    "\n",
    "def test_relu_custom_cutoff():\n",
    "    array = np.array([-5, 0, 3, -2, 4])\n",
    "    expected_output = np.array([2, 2, 3, 2, 4])\n",
    "    np.testing.assert_array_equal(ReLu(array.copy(), 2), expected_output, \"Failed on custom cutoff\")\n",
    "\n",
    "def test_relu_empty_array():\n",
    "    array = np.array([])\n",
    "    expected_output = np.array([])\n",
    "    np.testing.assert_array_equal(ReLu(array.copy()), expected_output, \"Failed on empty array\")\n",
    "\n",
    "test_relu_default_cutoff()\n",
    "test_relu_custom_cutoff()\n",
    "test_relu_empty_array()"
   ]
  },
  {
   "cell_type": "code",
   "execution_count": 3,
   "id": "050c2106",
   "metadata": {},
   "outputs": [],
   "source": [
    "import numpy as np\n",
    "from tasks import step, ReLu, neural_net_layer\n",
    "\n",
    "def test_neural_net_layer_basic():\n",
    "    inputs = np.array([[1, 2], [3, 4]])\n",
    "    weights = np.array([1, -1])\n",
    "    expected_output = np.array([0, 0])  # (1*1 + 2*(-1)) = -1 -> 0 (after ReLu), (3*1 + 4*(-1)) = -1 -> 0 (after ReLu)\n",
    "    np.testing.assert_array_equal(neural_net_layer(inputs, weights), expected_output, \"Failed on basic 2D array\")\n",
    "\n",
    "def test_neural_net_layer_custom():\n",
    "    inputs = np.array([[2, 3], [1, 1]])\n",
    "    weights = np.array([1, 2])\n",
    "    expected_output = np.array([8, 3])  # (2*1 + 3*2) = 8, (1*1 + 1*2) = 3\n",
    "    np.testing.assert_array_equal(neural_net_layer(inputs, weights), expected_output, \"Failed on different inputs\")\n",
    "\n",
    "def test_neural_net_layer_with_negatives():\n",
    "    inputs = np.array([[1, -1], [-2, 3]])\n",
    "    weights = np.array([-2, 1])\n",
    "    expected_output = np.array([0, 7])  # ReLu([-3, 7]) = [0, 7]\n",
    "    np.testing.assert_array_equal(neural_net_layer(inputs, weights), expected_output, \"Failed on negative matrix values\")\n",
    "\n",
    "test_neural_net_layer_basic()\n",
    "test_neural_net_layer_custom()\n",
    "test_neural_net_layer_with_negatives()"
   ]
  }
 ],
 "metadata": {
  "kernelspec": {
   "display_name": "deep_l_course",
   "language": "python",
   "name": "python3"
  },
  "language_info": {
   "codemirror_mode": {
    "name": "ipython",
    "version": 3
   },
   "file_extension": ".py",
   "mimetype": "text/x-python",
   "name": "python",
   "nbconvert_exporter": "python",
   "pygments_lexer": "ipython3",
   "version": "3.11.14"
  }
 },
 "nbformat": 4,
 "nbformat_minor": 5
}
